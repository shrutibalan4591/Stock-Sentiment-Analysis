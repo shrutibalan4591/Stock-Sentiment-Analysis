{
  "nbformat": 4,
  "nbformat_minor": 0,
  "metadata": {
    "colab": {
      "provenance": []
    },
    "kernelspec": {
      "name": "python3",
      "display_name": "Python 3"
    },
    "language_info": {
      "name": "python"
    }
  },
  "cells": [
    {
      "cell_type": "markdown",
      "source": [
        "# **Data Description**"
      ],
      "metadata": {
        "id": "oiwqHLaTmoxT"
      }
    },
    {
      "cell_type": "markdown",
      "source": [
        "**Description:**\n",
        "\n",
        "Data used for this problem in this dataset:\n",
        "\n",
        "- **CombinedNewsDJIA.csv**: two columns\n",
        "The first column is \"Date\", the second is \"Label\", and the following ones are news headlines ranging from \"Top1\" to \"Top25\".\n",
        "All news are ranked from top to bottom based on how hot they are.\n",
        "Hence, there are 25 lines for each date. The news headlines has been obtained by crawling historical news headlines from Reddit WorldNews Channel (/r/worldnews). They are ranked by reddit users' votes, and only the top 25 headlines are considered for a single date.(Range: 2008-06-08 to 2016-07-01)\n",
        "\n",
        "\n",
        "=========================================\n",
        "\n",
        "This a binary classification task. Hence, there are only two labels:\n",
        "- \"1\" when Adj Close value rose or stayed as the same;\n",
        "- \"0\" when Adj Close value decreased.\n",
        "\n",
        "=========================================\n",
        "\n",
        "\n"
      ],
      "metadata": {
        "id": "4_alWhXLmuwG"
      }
    },
    {
      "cell_type": "markdown",
      "source": [
        "# **Import Libraries and Load Dataset**"
      ],
      "metadata": {
        "id": "H890Hy1_nQf1"
      }
    },
    {
      "cell_type": "code",
      "source": [
        "import pandas as pd\n",
        "from wordcloud import WordCloud\n",
        "import re\n",
        "#import bz2file as bz2 \n",
        "\n",
        "import nltk\n",
        "nltk.download('stopwords')\n",
        "from nltk.corpus import stopwords\n",
        "from nltk.stem import WordNetLemmatizer\n",
        "\n",
        "from sklearn.feature_extraction.text import CountVectorizer\n",
        "from sklearn.model_selection import GridSearchCV\n",
        "from sklearn.ensemble import RandomForestClassifier\n",
        "\n",
        "from sklearn.metrics import accuracy_score,confusion_matrix, plot_confusion_matrix,classification_report\n",
        "from sklearn.metrics import plot_confusion_matrix\n",
        "\n",
        "import pickle"
      ],
      "metadata": {
        "colab": {
          "base_uri": "https://localhost:8080/"
        },
        "id": "AefAfNeCsw7V",
        "outputId": "52dc87b6-b915-4221-f720-f214b5c76121"
      },
      "execution_count": null,
      "outputs": [
        {
          "output_type": "stream",
          "name": "stderr",
          "text": [
            "[nltk_data] Downloading package stopwords to /root/nltk_data...\n",
            "[nltk_data]   Package stopwords is already up-to-date!\n"
          ]
        }
      ]
    },
    {
      "cell_type": "code",
      "source": [
        "df_news = pd.read_csv('/content/Combined_News_DJIA.csv')"
      ],
      "metadata": {
        "id": "KK3980Ens9Da"
      },
      "execution_count": null,
      "outputs": []
    },
    {
      "cell_type": "markdown",
      "source": [
        "# **Data Exploration**"
      ],
      "metadata": {
        "id": "rXtB51AXtmgw"
      }
    },
    {
      "cell_type": "code",
      "source": [
        "train = df_news[df_news['Date'] < '20150101']\n",
        "test = df_news[df_news['Date'] > '20141231']"
      ],
      "metadata": {
        "id": "edEluaygPqYz"
      },
      "execution_count": null,
      "outputs": []
    },
    {
      "cell_type": "code",
      "source": [
        "# Removing punctuations\n",
        "data=train.iloc[:,2:27]\n",
        "data.replace(\"[^a-zA-Z]\",\" \",regex=True, inplace=True)\n",
        "\n",
        "# Renaming column names for ease of access\n",
        "list1= [i for i in range(25)]\n",
        "new_Index=[str(i) for i in list1]\n",
        "data.columns= new_Index\n",
        "data.head(5)"
      ],
      "metadata": {
        "id": "mSXbCuzCP7FQ"
      },
      "execution_count": null,
      "outputs": []
    },
    {
      "cell_type": "code",
      "source": [
        "# Convertng headlines to lower case\n",
        "for col in data.columns:\n",
        "    data[col]=data[col].str.lower()\n",
        "data.head(1)"
      ],
      "metadata": {
        "id": "YIwTv-YXP5pw"
      },
      "execution_count": null,
      "outputs": []
    },
    {
      "cell_type": "code",
      "source": [
        "train_headlines = []\n",
        "for row in range(0,len(data.index)):\n",
        "    train_headlines.append(' '.join(str(x) for x in data.iloc[row,0:25]))"
      ],
      "metadata": {
        "id": "kn7PQ_InQxCw"
      },
      "execution_count": null,
      "outputs": []
    },
    {
      "cell_type": "markdown",
      "source": [
        "# **Modeling**"
      ],
      "metadata": {
        "id": "gWB7RMcCAgFz"
      }
    },
    {
      "cell_type": "code",
      "source": [
        "# BAG OF WORDS\n",
        "countvector=CountVectorizer(ngram_range=(2,2))\n",
        "traindataset=countvector.fit_transform(train_headlines)"
      ],
      "metadata": {
        "id": "_A2SLveWQ7zb"
      },
      "execution_count": null,
      "outputs": []
    },
    {
      "cell_type": "code",
      "metadata": {
        "id": "EyImGO9T3AiN"
      },
      "source": [
        "# Assign training data\n",
        "X_train = traindataset\n",
        "y_train = train.Label"
      ],
      "execution_count": null,
      "outputs": []
    },
    {
      "cell_type": "code",
      "metadata": {
        "id": "xMVDCI6t-XiS",
        "colab": {
          "base_uri": "https://localhost:8080/"
        },
        "outputId": "33971a01-cae5-43a9-b022-8e2f92c45f57"
      },
      "source": [
        "# Use classifier for training\n",
        "rf = RandomForestClassifier(n_estimators=300,\n",
        "                            criterion='entropy')\n",
        "rf.fit(X_train, y_train)"
      ],
      "execution_count": null,
      "outputs": [
        {
          "output_type": "execute_result",
          "data": {
            "text/plain": [
              "RandomForestClassifier(criterion='entropy', n_estimators=300)"
            ]
          },
          "metadata": {},
          "execution_count": 11
        }
      ]
    },
    {
      "cell_type": "code",
      "source": [
        "# Combine columns from Top1 to Top25 for test_data\n",
        "test_headlines = []\n",
        "for row in range(0, len(test.index)):\n",
        "    test_headlines.append(' '.join(str(x) for x in test.iloc[row,2:]))"
      ],
      "metadata": {
        "id": "Q1FwUY65Lw_F"
      },
      "execution_count": null,
      "outputs": []
    },
    {
      "cell_type": "code",
      "metadata": {
        "id": "hWwMuP4sW4ML"
      },
      "source": [
        "#convert text data into vectors\n",
        "testdataset = countvector.transform(test_headlines)"
      ],
      "execution_count": null,
      "outputs": []
    },
    {
      "cell_type": "code",
      "source": [
        "#predict the target\n",
        "predictions = rf.predict(testdataset)"
      ],
      "metadata": {
        "id": "PxCX6GigSli3"
      },
      "execution_count": null,
      "outputs": []
    },
    {
      "cell_type": "code",
      "metadata": {
        "id": "NFTW6MNQXGvU"
      },
      "source": [
        "y_test = test['Label']"
      ],
      "execution_count": null,
      "outputs": []
    },
    {
      "cell_type": "code",
      "source": [
        "score=accuracy_score(test['Label'],predictions)\n",
        "print('Accuracy : ', score)\n",
        "report=classification_report(test['Label'],predictions)\n",
        "print(report)"
      ],
      "metadata": {
        "colab": {
          "base_uri": "https://localhost:8080/"
        },
        "id": "WhSOlqcNht1k",
        "outputId": "2d0ab0c9-15dc-4801-a339-88569d8b277f"
      },
      "execution_count": null,
      "outputs": [
        {
          "output_type": "stream",
          "name": "stdout",
          "text": [
            "Accuracy :  0.8518518518518519\n",
            "              precision    recall  f1-score   support\n",
            "\n",
            "           0       0.99      0.70      0.82       186\n",
            "           1       0.78      0.99      0.87       192\n",
            "\n",
            "    accuracy                           0.85       378\n",
            "   macro avg       0.88      0.85      0.85       378\n",
            "weighted avg       0.88      0.85      0.85       378\n",
            "\n"
          ]
        }
      ]
    },
    {
      "cell_type": "code",
      "source": [
        "from mlxtend.plotting import plot_confusion_matrix\n",
        "plot_confusion_matrix(confusion_matrix(y_test, predictions))"
      ],
      "metadata": {
        "colab": {
          "base_uri": "https://localhost:8080/",
          "height": 314
        },
        "id": "BzxjoxqzijDS",
        "outputId": "6c21e976-bb71-4cc1-fca0-5db8033b5f13"
      },
      "execution_count": null,
      "outputs": [
        {
          "output_type": "execute_result",
          "data": {
            "text/plain": [
              "(<Figure size 432x288 with 1 Axes>,\n",
              " <matplotlib.axes._subplots.AxesSubplot at 0x7fdbb8d6aee0>)"
            ]
          },
          "metadata": {},
          "execution_count": 22
        },
        {
          "output_type": "display_data",
          "data": {
            "text/plain": [
              "<Figure size 432x288 with 1 Axes>"
            ],
            "image/png": "[encoded data removed]"
          },
          "metadata": {
            "needs_background": "light"
          }
        }
      ]
    },
    {
      "cell_type": "markdown",
      "source": [
        "# **Save the model**"
      ],
      "metadata": {
        "id": "hx4Cp1I_XfNM"
      }
    },
    {
      "cell_type": "code",
      "source": [
        "import bz2file as bz2 \n",
        "\n",
        "def compressed_pickle(title, data):\n",
        "  with bz2.BZ2File(title + '.pbz2', 'w') as f:\n",
        "    pickle.dump(data, f)\n",
        "\n",
        "compressed_pickle('senti-cv', countvector)\n",
        "\n",
        "compressed_pickle('senti-model', rf)"
      ],
      "metadata": {
        "id": "0K2_RMMRSRBp"
      },
      "execution_count": null,
      "outputs": []
    }
  ]
}